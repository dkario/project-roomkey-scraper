{
 "metadata": {
  "language_info": {
   "codemirror_mode": {
    "name": "ipython",
    "version": 3
   },
   "file_extension": ".py",
   "mimetype": "text/x-python",
   "name": "python",
   "nbconvert_exporter": "python",
   "pygments_lexer": "ipython3",
   "version": "3.8.5-final"
  },
  "orig_nbformat": 2,
  "kernelspec": {
   "name": "python38564bit7937f3bc70774a4fb5048788359e7b55",
   "display_name": "Python 3.8.5 64-bit"
  }
 },
 "nbformat": 4,
 "nbformat_minor": 2,
 "cells": [
  {
   "cell_type": "code",
   "execution_count": 1,
   "metadata": {
    "tags": []
   },
   "outputs": [],
   "source": [
    "import pdfplumber\n",
    "import source.read_pdf as read_pdf\n",
    "from source.format_data import format_data\n",
    "\n",
    "filename = \"8.21.20_COVID-19_Update_FINAL.pdf\"\n",
    "\n",
    "with pdfplumber.open(filename) as pdf:\n",
    "    start_page, end_page = read_pdf.get_start_and_end_pages(pdf)\n",
    "    start_page_number = start_page.page_number\n",
    "    end_page_number = end_page.page_number\n",
    "    coords = read_pdf.get_coords(start_page, end_page)\n",
    "    roomkey_pages = pdf.pages[start_page_number-1:end_page_number]\n",
    "\n",
    "    all_tables = []\n",
    "\n",
    "    for page in roomkey_pages:\n",
    "        page_number = page.page_number\n",
    "        table_coords = read_pdf.get_table_coords(page_number, coords, start_page_number, end_page_number)\n",
    "        read_pdf.save_table_img(page, table_coords, filename)\n",
    "        all_tables.append(read_pdf.parse_table(page_number, table_coords, filename))\n",
    "    \n",
    "    df = format_data(all_tables)\n",
    "    read_pdf.to_csv(df, filename)\n",
    "\n"
   ]
  },
  {
   "cell_type": "code",
   "execution_count": null,
   "metadata": {},
   "outputs": [],
   "source": []
  }
 ]
}